{
 "cells": [
  {
   "cell_type": "markdown",
   "id": "fdeff819",
   "metadata": {},
   "source": [
    "# Sinh Viên thực hiện Lab 1 ở Đây"
   ]
  },
  {
   "cell_type": "markdown",
   "id": "acc5d7dc",
   "metadata": {},
   "source": [
    "## Lab 1 - Bài 1"
   ]
  },
  {
   "cell_type": "code",
   "execution_count": 1,
   "id": "001e0507",
   "metadata": {},
   "outputs": [
    {
     "name": "stdout",
     "output_type": "stream",
     "text": [
      "Xin chào\n",
      "Tôi tên Phạm Quang Hợp\n",
      "Tôi đến từ Đăk Nông\n"
     ]
    }
   ],
   "source": [
    "# Code lab 1 bài 1 ở đây\n",
    "print(\"Xin chào\")\n",
    "print(\"Tôi tên Phạm Quang Hợp\")\n",
    "print(\"Tôi đến từ Đăk Nông\")"
   ]
  },
  {
   "cell_type": "markdown",
   "id": "c0835310",
   "metadata": {},
   "source": [
    "## Lab 1 - Bài 2"
   ]
  },
  {
   "cell_type": "code",
   "execution_count": 2,
   "id": "fa9cb39f",
   "metadata": {},
   "outputs": [
    {
     "name": "stdout",
     "output_type": "stream",
     "text": [
      "Chu vi :68.0 Diện tích: 280.0\n"
     ]
    }
   ],
   "source": [
    "# Code lab 1  bài 2 ở đây\n",
    "dai=float(input(\"Nhập chiều dài:\"))\n",
    "rong=float(input(\"Nhập chiều rộng:\"))\n",
    "chu_vi=(dai+rong)*2\n",
    "dien_tich=dai*rong\n",
    "print(f\"Chu vi :{chu_vi} Diện tích: {dien_tich}\")"
   ]
  },
  {
   "cell_type": "markdown",
   "id": "0f2483fe",
   "metadata": {},
   "source": [
    "## Lab 1 - Bài 3"
   ]
  },
  {
   "cell_type": "code",
   "execution_count": null,
   "id": "7034990b",
   "metadata": {},
   "outputs": [
    {
     "name": "stdout",
     "output_type": "stream",
     "text": [
      "\"... \n",
      "Sống không giận, không hờn không oán trách  \n",
      "Sống mỉm cười, với thử thách chông gai  \n",
      "Sống vươn lên, theo kịp ánh ban mai  \n",
      "Sống chan hòa, với những người chung sống.  \n",
      "\n",
      "Sống là động, nhưng lòng luôn bất động  \n",
      "Sống là thương, nhưng lòng chẳng vấn vương  \n",
      "Sống yên vui, danh lợi mãi coi thường  \n",
      "Tâm bất biến, giữa dòng đời vạn biến.  \n",
      "...\"\n"
     ]
    }
   ],
   "source": [
    "# Code lab 1  bài 3 ở đây\n",
    "Tu_Song=\"Sống\"\n",
    "print(f'''\"... \n",
    "{Tu_Song} không giận\\nkhông hờn không oán trách  \n",
    "{Tu_Song} mỉm cười, với thử thách chông gai  \n",
    "{Tu_Song} vươn lên, theo kịp ánh ban mai  \n",
    "{Tu_Song} chan hòa, với những người chung sống.  \n",
    "\n",
    "{Tu_Song} là động, nhưng lòng luôn bất động  \n",
    "{Tu_Song} là thương, nhưng lòng chẳng vấn vương  \n",
    "{Tu_Song} yên vui, danh lợi mãi coi thường  \n",
    "Tâm bất biến, giữa dòng đời vạn biến.  \n",
    "...\" ''')\n"
   ]
  },
  {
   "cell_type": "markdown",
   "id": "d36ea3d3",
   "metadata": {},
   "source": [
    "## Lab 1 - Bài 4"
   ]
  },
  {
   "cell_type": "code",
   "execution_count": 12,
   "id": "4c707ec1",
   "metadata": {},
   "outputs": [
    {
     "name": "stdout",
     "output_type": "stream",
     "text": [
      "Phương trình bậc 2: 2.0x^2 + (5.0)x + (2.0) \n",
      "Delta :9.0\n",
      "Căn bậc 2 của Delta: 3.0\n"
     ]
    }
   ],
   "source": [
    "# code lab 1 bài 4 ở đây\n",
    "import math\n",
    "a=float(input(\"Nhập hệ số a: \"))\n",
    "b=float(input(\"Nhập hệ số b: \"))\n",
    "c=float(input(\"Nhập hệ số c: \"))\n",
    "\n",
    "print(f\"Phương trình bậc 2: {a}x^2 + ({b})x + ({c}) \")\n",
    "delta = b * b - 4 * a * c\n",
    "sqrt_delta=math.sqrt(delta)\n",
    "print (f\"Delta :{delta}\" )\n",
    "print (f\"Căn bậc 2 của Delta: {sqrt_delta}\")"
   ]
  },
  {
   "cell_type": "markdown",
   "id": "e2b41d4a",
   "metadata": {},
   "source": [
    "## Lab 1 - Bài 5: bài tập làm thêm"
   ]
  },
  {
   "cell_type": "code",
   "execution_count": null,
   "id": "0e0172f7",
   "metadata": {},
   "outputs": [
    {
     "name": "stdout",
     "output_type": "stream",
     "text": [
      "Tổng: 7.0\n",
      "Hiệu: -3.0\n",
      "Tích: 10.0\n",
      "Thương: 0.4\n",
      "Logarit cơ số 5.0 của 2.0: 0.43067655807339306\n",
      "Lũy thừa: 32.0\n",
      "Sin: 0.91\n",
      "Cos: -0.42\n",
      "Tan: -2.19 \n",
      "Căn bậc 2 của 2.0: 1.4142135623730951\n"
     ]
    }
   ],
   "source": [
    "# code lab 1  bài làm thêm ở đây \n",
    "#Nhập vào 2 số , tính tông, hiệu, tích, thương , logarit, lũy thừa,hàm lượng giác(sin, cos, tan) , căn bậc 2 của 2 số đó\n",
    "so_thu_nhat=float(input(\"Nhập số thứ nhất: \"))\n",
    "so_thu_hai=float(input(\"Nhập số thứ hai: \"))\n",
    "tong=so_thu_nhat+so_thu_hai\n",
    "hieu=so_thu_nhat-so_thu_hai\n",
    "tich=so_thu_nhat*so_thu_hai\n",
    "thuong=so_thu_nhat/so_thu_hai\n",
    "#logarit cơ số so_thu_hai của so_thu_nhat\n",
    "logarit=math.log(so_thu_nhat,so_thu_hai)\n",
    "luy_thua=math.pow(so_thu_nhat,so_thu_hai)\n",
    "sin =math.sin(so_thu_nhat)\n",
    "cos =math.cos(so_thu_nhat)\n",
    "tan =math.tan(so_thu_nhat) \n",
    "can_bac_2_so_thu_nhat=math.sqrt(abs(so_thu_nhat));\n",
    "print(f\"Tổng: {tong}\\nHiệu: {hieu}\\nTích: {tich}\\nThương: {thuong}\\nLogarit cơ số {so_thu_hai} của {so_thu_nhat}: {logarit:.02f}\\nLũy thừa: {luy_thua}\\nSin: {sin:.02f}\\nCos: {cos:.02f}\\nTan: {tan:.02f} \\nCăn bậc 2 của {so_thu_nhat}: {can_bac_2_so_thu_nhat:.02f}\")"
   ]
  },
  {
   "cell_type": "code",
   "execution_count": null,
   "id": "49a246c8",
   "metadata": {},
   "outputs": [],
   "source": []
  }
 ],
 "metadata": {
  "kernelspec": {
   "display_name": "Python 3",
   "language": "python",
   "name": "python3"
  },
  "language_info": {
   "codemirror_mode": {
    "name": "ipython",
    "version": 3
   },
   "file_extension": ".py",
   "mimetype": "text/x-python",
   "name": "python",
   "nbconvert_exporter": "python",
   "pygments_lexer": "ipython3",
   "version": "3.13.7"
  }
 },
 "nbformat": 4,
 "nbformat_minor": 5
}
