{
 "cells": [
  {
   "cell_type": "markdown",
   "id": "fdeff819",
   "metadata": {},
   "source": [
    "# Sinh Viên thực hiện Lab 2 ở Đây"
   ]
  },
  {
   "cell_type": "markdown",
   "id": "acc5d7dc",
   "metadata": {},
   "source": [
    "## Lab 2 - Bài 1"
   ]
  },
  {
   "cell_type": "code",
   "execution_count": null,
   "id": "001e0507",
   "metadata": {},
   "outputs": [
    {
     "name": "stdout",
     "output_type": "stream",
     "text": [
      "Kiếp con người mong manh như là gió  \n",
      "Sống trên đời có được mấy lần vui  \n",
      "Sao phải đau mà không thể mỉm cười  \n",
      "Gắng buông nỗi ngậm ngùi nơi quá khứ  \n",
      "\n",
      "Nếu có thể sao ta không làm thử  \n",
      "Để tâm hồn khắc hai chữ bình an  \n",
      "Cho đôi chân bước thanh thản nhẹ nhàng  \n",
      "Dù hướng đời có muôn ngàn đá sỏi  \n",
      "True\n",
      "126\n",
      "ngậm ngùi\n",
      "NGẬM NGÙI\n"
     ]
    }
   ],
   "source": [
    "# Code lab 2 bài 1 ở đây\n",
    "\n",
    "text=\"\"\"Kiếp con người mong manh như là gió  \n",
    "Sống trên đời có được mấy lần vui  \n",
    "Sao phải đau mà không thể mỉm cười  \n",
    "Gắng buông nỗi ngậm ngùi nơi quá khứ  \n",
    "\n",
    "Nếu có thể sao ta không làm thử  \n",
    "Để tâm hồn khắc hai chữ bình an  \n",
    "Cho đôi chân bước thanh thản nhẹ nhàng  \n",
    "Dù hướng đời có muôn ngàn đá sỏi  \"\"\"\n",
    "\n",
    "print(text)\n",
    "key=input(\"Nhập từ cần tìm: \")\n",
    "print(key in text)\n",
    "\n",
    "\n",
    "start=text.find(key)\n",
    "\n",
    "if(start!=-1):\n",
    "    print(start)\n",
    "    end=start+len(key)\n",
    "    print (text[start:end])\n",
    "else:\n",
    "    print(\"Không tìm thấy từ cần tìm\")\n",
    "\n",
    "#in hoa chuỗi\n",
    "print(key.upper())\n",
    "\n"
   ]
  },
  {
   "cell_type": "markdown",
   "id": "c0835310",
   "metadata": {},
   "source": [
    "## Lab 2 - Bài 2"
   ]
  },
  {
   "cell_type": "code",
   "execution_count": 2,
   "id": "fa9cb39f",
   "metadata": {},
   "outputs": [
    {
     "name": "stdout",
     "output_type": "stream",
     "text": [
      "\"...\n",
      "Kiếp con người mong manh như là gió  \n",
      "Sống trên đời có được mấy lần vui  \n",
      "Sao phải đau mà không thể mỉm cười  \n",
      "Gắng buông nỗi ngậm ngùi nơi quá khứ  \n",
      "\n",
      "Nếu có thể sao ta không làm thử  \n",
      "Để tâm hồn khắc hai chữ hạnh phúc  \n",
      "Cho đôi chân bước thanh thản nhẹ nhàng  \n",
      "Dù hướng đời có muôn ngàn đá sỏi  \n",
      "...\"\n"
     ]
    }
   ],
   "source": [
    "# Code lab 2  bài 2 ở đây\n",
    "text=text.replace(\"bình an\",\"hạnh phúc\")\n",
    "text='\"...\\n'+ text +'\\n...\"'\n",
    "print (text)\n"
   ]
  },
  {
   "cell_type": "markdown",
   "id": "0f2483fe",
   "metadata": {},
   "source": [
    "## Lab 2 - Bài 3"
   ]
  },
  {
   "cell_type": "code",
   "execution_count": 6,
   "id": "7034990b",
   "metadata": {},
   "outputs": [
    {
     "name": "stdout",
     "output_type": "stream",
     "text": [
      "Phương trình : 5.0x + (2.0)=0\n",
      "Phương trình có nghiệm x = -0.4\n"
     ]
    }
   ],
   "source": [
    "# Code lab 2  bài 3 ở đây\n",
    "# Bài 3: Viết chương trình cho phép giải phương trình bậc nhất trong đó các hệ số a và b \n",
    "# nhập từ bàn phím. \n",
    "a=float(input(\"Nhập số a: \"))\n",
    "b=float(input(\"Nhập số b: \"))\n",
    "print (f\"Phương trình : {a}x + ({b})=0\")\n",
    "if a==0 :\n",
    "    if b==0 :\n",
    "        print (\"Phương trình vô số nghiệm\")\n",
    "    else:\n",
    "        print (\"Phương trình vô nghiệm\")\n",
    "else:\n",
    "    print(f\"Phương trình có nghiệm x = {-b/a}\")"
   ]
  },
  {
   "cell_type": "markdown",
   "id": "d36ea3d3",
   "metadata": {},
   "source": [
    "## Lab 2 - Bài 4"
   ]
  },
  {
   "cell_type": "code",
   "execution_count": null,
   "id": "4c707ec1",
   "metadata": {},
   "outputs": [
    {
     "name": "stdout",
     "output_type": "stream",
     "text": [
      "Phương trình bậc 2: 1.0x^2 + (-1.0)x + 0.0 = 0\n",
      "Phương trình có 2 nghiệm :\n",
      "                X1= 1.0\n",
      "                X2= 0.0\n",
      "                \n"
     ]
    }
   ],
   "source": [
    "# code lab 2 bài 4 ở đây\n",
    "# Bài 4 (2 điểm) \n",
    "# Viết chương trình cho phép giải phương trình bậc hai trong đó các hệ số a, b và c \n",
    "# nhập từ bàn phím. \n",
    "import math\n",
    "\n",
    "a=float(input(\"Nhập a: \"))\n",
    "b=float(input(\"Nhập b: \"))\n",
    "c=float(input(\"Nhập c: \"))\n",
    "\n",
    "print(f\"Phương trình bậc 2: {a}x^2 + ({b})x + {c} = 0\")\n",
    "if a == 0:\n",
    "    if b==0 :\n",
    "        if c==0 :\n",
    "            print (\"Phương trình vô số nghiệm\")\n",
    "        else:\n",
    "            print (\"Phương trình vô nghiệm\")\n",
    "    else:\n",
    "        print(f\"Phương trình có nghiệm x = {-c/b}\")\n",
    "else:\n",
    "    delta=b*b -4*a*c\n",
    "    if delta <0 :\n",
    "        print(\"Phương trình vô nghiệm\")\n",
    "    elif delta > 0:\n",
    "        print (f\"\"\"Phương trình có 2 nghiệm :\n",
    "                X1= {((-b)+math.sqrt(delta))/(2*a)}\n",
    "                X2= {((-b)-math.sqrt(delta))/(2*a)}\n",
    "                \"\"\")\n",
    "    else:\n",
    "        print(f\"Phương trình có nghiệm kép X={-b/(2*a)}\")"
   ]
  },
  {
   "cell_type": "markdown",
   "id": "e2b41d4a",
   "metadata": {},
   "source": [
    "## Lab 2 - Bài 5: bài tập làm thêm"
   ]
  },
  {
   "cell_type": "code",
   "execution_count": 6,
   "id": "0e0172f7",
   "metadata": {},
   "outputs": [
    {
     "name": "stdout",
     "output_type": "stream",
     "text": [
      "Tổng của 25.0 và 6.0 là: 31.0\n",
      "Số lớn nhất là: 25.0\n",
      "So lon nhat trong hai so là 25.0\n"
     ]
    }
   ],
   "source": [
    "# code lab 2  bài làm thêm ở đây \n",
    "#Nhập vào 2 số , tính tông, hiệu, tích, thương , logarit, lũy thừa,hàm lượng giác(sin, cos, tan) , căn bậc 2 của 2 số đó có sử dụng điều kiện if\n",
    "import math \n",
    "#nhập 2 số\n",
    "so_1=float(input(\"Nhập số thứ nhất: \"))\n",
    "so_2=float(input(\"Nhập số thứ hai: \"))\n",
    "# in ra 2 số vừa nhập và tính tổng, hiệu, tích, thương của 2 số\n",
    "toan_tu=input(\"Nhập phép toán +,-,*,/ , sin, cos, tan, log, pow, sqrt  :\")\n",
    "if toan_tu==\"+\":\n",
    "    print(f\"Tổng của {so_1} và {so_2} là: {so_1+so_2}\")\n",
    "elif toan_tu==\"-\":\n",
    "    print(f\"Hiệu của {so_1} và {so_2} là: {so_1-so_2}\")\n",
    "elif toan_tu==\"*\":\n",
    "    print(f\"Tích của {so_1} và {so_2} là: {so_1*so_2}\")\n",
    "elif toan_tu==\"/\":  \n",
    "    if so_2!=0:\n",
    "        print(f\"Thương của {so_1} và {so_2} là: {so_1/so_2}\")\n",
    "    else:\n",
    "        print(\"Lỗi: Không thể chia cho 0\")\n",
    "elif toan_tu==\"sin\":\n",
    "    print(f\"sin({so_1}) = {math.sin(math.radians(so_1))}\")\n",
    "    print(f\"sin({so_2}) = {math.sin(math.radians(so_2))}\")\n",
    "elif toan_tu==\"cos\":       \n",
    "    print(f\"cos({so_1}) = {math.cos(math.radians(so_1))}\")\n",
    "    print(f\"cos({so_2}) = {math.cos(math.radians(so_2))}\")\n",
    "elif toan_tu==\"tan\":\n",
    "    print(f\"tan({so_1}) = {math.tan(math.radians(so_1))}\")\n",
    "    print(f\"tan({so_2}) = {math.tan(math.radians(so_2))}\")\n",
    "elif toan_tu==\"log\":\n",
    "    if so_1>0:\n",
    "        print(f\"log({so_1}) = {math.log(so_1)}\")\n",
    "    else:\n",
    "        print(f\"Lỗi: Không thể tính logarit của số âm hoặc bằng 0\")\n",
    "    if so_2>0:\n",
    "        print(f\"log({so_2}) = {math.log(so_2)}\")\n",
    "    else:\n",
    "        print(f\"Lỗi: Không thể tính logarit của số âm hoặc bằng 0\")\n",
    "elif toan_tu==\"pow\":\n",
    "    print(f\"{so_1} mũ {so_2} = {math.pow(so_1,so_2)}\")\n",
    "elif toan_tu==\"sqrt\":\n",
    "    if so_1>=0:\n",
    "        print(f\"Căn bậc 2 của {so_1} là: {math.sqrt(so_1)}\")\n",
    "    else:\n",
    "        print(f\"Lỗi: Không thể tính căn bậc 2 của số âm\")\n",
    "    if so_2>=0:\n",
    "        print(f\"Căn bậc 2 của {so_2} là: {math.sqrt(so_2)}\")\n",
    "    else:\n",
    "        print(f\"Lỗi: Không thể tính căn bậc 2 của số âm\")\n",
    "else:\n",
    "    print(\"Phép toán không hợp lệ\")\n",
    "\n",
    "\n",
    "#Nhập 2 số so1 và so2, tím số lớn nhất trong hai số \n",
    "\n",
    "if so_1>=so_2:\n",
    "    print(f\"Số lớn nhất là: {so_1}\")    \n",
    "else:\n",
    "    print(f\"Số lớn nhất là: {so_2}\")    \n",
    "    \n",
    "print(f\"So lon nhat trong hai so là {so_1 if so_1>=so_2 else so_2}\")"
   ]
  },
  {
   "cell_type": "code",
   "execution_count": null,
   "id": "d468aa20",
   "metadata": {},
   "outputs": [
    {
     "name": "stdout",
     "output_type": "stream",
     "text": [
      "Số lớn nhất trong 3 số là : 666.0\n"
     ]
    }
   ],
   "source": [
    "#Bài làm thêm \n",
    "# cho 3 số , tìm số lớn nhất trong 3 số bằng toán tử 3 ngôi\n",
    "so_1=float(input(\"Nhập số thứ nhất: \"))\n",
    "so_2=float(input(\"Nhập số thứ hai: \"))\n",
    "so_3=float(input(\"Nhập số thứ ba: \"))\n",
    "\n",
    "print(f\"Số lớn nhất trong 3 số là : {so_1 if (so_1>= so_2 and so_1>=so_3 ) else so_2 if (so_2>=so_1 and so_2>= so_3) else so_3}\")"
   ]
  },
  {
   "cell_type": "code",
   "execution_count": null,
   "id": "e4c55cfe",
   "metadata": {},
   "outputs": [],
   "source": []
  }
 ],
 "metadata": {
  "kernelspec": {
   "display_name": "Python 3",
   "language": "python",
   "name": "python3"
  },
  "language_info": {
   "codemirror_mode": {
    "name": "ipython",
    "version": 3
   },
   "file_extension": ".py",
   "mimetype": "text/x-python",
   "name": "python",
   "nbconvert_exporter": "python",
   "pygments_lexer": "ipython3",
   "version": "3.13.7"
  }
 },
 "nbformat": 4,
 "nbformat_minor": 5
}
