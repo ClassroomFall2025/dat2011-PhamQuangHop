{
 "cells": [
  {
   "cell_type": "markdown",
   "id": "fdeff819",
   "metadata": {},
   "source": [
    "# Sinh Viên thực hiện Lab 2 ở Đây"
   ]
  },
  {
   "cell_type": "markdown",
   "id": "acc5d7dc",
   "metadata": {},
   "source": [
    "## Lab 2 - Bài 1"
   ]
  },
  {
   "cell_type": "code",
   "execution_count": null,
   "id": "001e0507",
   "metadata": {},
   "outputs": [
    {
     "name": "stdout",
     "output_type": "stream",
     "text": [
      "Kiếp con người mong manh như là gió  \n",
      "Sống trên đời có được mấy lần vui  \n",
      "Sao phải đau mà không thể mỉm cười  \n",
      "Gắng buông nỗi ngậm ngùi nơi quá khứ  \n",
      "\n",
      "Nếu có thể sao ta không làm thử  \n",
      "Để tâm hồn khắc hai chữ bình an  \n",
      "Cho đôi chân bước thanh thản nhẹ nhàng  \n",
      "Dù hướng đời có muôn ngàn đá sỏi  \n",
      "True\n",
      "126\n",
      "ngậm ngùi\n",
      "NGẬM NGÙI\n"
     ]
    }
   ],
   "source": [
    "# Code lab 2 bài 1 ở đây\n",
    "\n",
    "text=\"\"\"Kiếp con người mong manh như là gió  \n",
    "Sống trên đời có được mấy lần vui  \n",
    "Sao phải đau mà không thể mỉm cười  \n",
    "Gắng buông nỗi ngậm ngùi nơi quá khứ  \n",
    "\n",
    "Nếu có thể sao ta không làm thử  \n",
    "Để tâm hồn khắc hai chữ bình an  \n",
    "Cho đôi chân bước thanh thản nhẹ nhàng  \n",
    "Dù hướng đời có muôn ngàn đá sỏi  \"\"\"\n",
    "\n",
    "print(text)\n",
    "key=input(\"Nhập từ cần tìm: \")\n",
    "print(key in text)\n",
    "\n",
    "\n",
    "start=text.find(key)\n",
    "\n",
    "if(start!=-1):\n",
    "    print(start)\n",
    "    end=start+len(key)\n",
    "    print (text[start:end])\n",
    "else:\n",
    "    print(\"Không tìm thấy từ cần tìm\")\n",
    "\n",
    "#in hoa chuỗi\n",
    "print(key.upper())\n",
    "\n"
   ]
  },
  {
   "cell_type": "markdown",
   "id": "c0835310",
   "metadata": {},
   "source": [
    "## Lab 2 - Bài 2"
   ]
  },
  {
   "cell_type": "code",
   "execution_count": 2,
   "id": "fa9cb39f",
   "metadata": {},
   "outputs": [
    {
     "name": "stdout",
     "output_type": "stream",
     "text": [
      "\"...\n",
      "Kiếp con người mong manh như là gió  \n",
      "Sống trên đời có được mấy lần vui  \n",
      "Sao phải đau mà không thể mỉm cười  \n",
      "Gắng buông nỗi ngậm ngùi nơi quá khứ  \n",
      "\n",
      "Nếu có thể sao ta không làm thử  \n",
      "Để tâm hồn khắc hai chữ hạnh phúc  \n",
      "Cho đôi chân bước thanh thản nhẹ nhàng  \n",
      "Dù hướng đời có muôn ngàn đá sỏi  \n",
      "...\"\n"
     ]
    }
   ],
   "source": [
    "# Code lab 2  bài 2 ở đây\n",
    "text=text.replace(\"bình an\",\"hạnh phúc\")\n",
    "text='\"...\\n'+ text +'\\n...\"'\n",
    "print (text)\n"
   ]
  },
  {
   "cell_type": "markdown",
   "id": "0f2483fe",
   "metadata": {},
   "source": [
    "## Lab 2 - Bài 3"
   ]
  },
  {
   "cell_type": "code",
   "execution_count": 6,
   "id": "7034990b",
   "metadata": {},
   "outputs": [
    {
     "name": "stdout",
     "output_type": "stream",
     "text": [
      "Phương trình : 5.0x + (2.0)=0\n",
      "Phương trình có nghiệm x = -0.4\n"
     ]
    }
   ],
   "source": [
    "# Code lab 2  bài 3 ở đây\n",
    "# Bài 3: Viết chương trình cho phép giải phương trình bậc nhất trong đó các hệ số a và b \n",
    "# nhập từ bàn phím. \n",
    "a=float(input(\"Nhập số a: \"))\n",
    "b=float(input(\"Nhập số b: \"))\n",
    "print (f\"Phương trình : {a}x + ({b})=0\")\n",
    "if a==0 :\n",
    "    if b==0 :\n",
    "        print (\"Phương trình vô số nghiệm\")\n",
    "    else:\n",
    "        print (\"Phương trình vô nghiệm\")\n",
    "else:\n",
    "    print(f\"Phương trình có nghiệm x = {-b/a}\")"
   ]
  },
  {
   "cell_type": "markdown",
   "id": "d36ea3d3",
   "metadata": {},
   "source": [
    "## Lab 2 - Bài 4"
   ]
  },
  {
   "cell_type": "code",
   "execution_count": 8,
   "id": "4c707ec1",
   "metadata": {},
   "outputs": [
    {
     "name": "stdout",
     "output_type": "stream",
     "text": [
      "Phương trình bậc 2: 1.0x^2 + (-1.0)x + 0.0 = 0\n",
      "Phương trình có 2 nghiệm :\n",
      "                X1= 1.0\n",
      "                X2= 0.0\n",
      "                \n"
     ]
    }
   ],
   "source": [
    "# code lab 2 bài 4 ở đây\n",
    "# Bài 4 (2 điểm) \n",
    "# Viết chương trình cho phép giải phương trình bậc hai trong đó các hệ số a, b và c \n",
    "# nhập từ bàn phím. \n",
    "import math\n",
    "\n",
    "a=float(input(\"Nhập a: \"))\n",
    "b=float(input(\"Nhập b: \"))\n",
    "c=float(input(\"Nhập c: \"))\n",
    "\n",
    "print(f\"Phương trình bậc 2: {a}x^2 + ({b})x + {c} = 0\")\n",
    "if a == 0:\n",
    "    if b==0 :\n",
    "        if c==0 :\n",
    "            print (\"Phương trình vô số nghiệm\")\n",
    "        else:\n",
    "            print (\"Phương trình vô nghiệm\")\n",
    "    else:\n",
    "        print(f\"Phương trình có nghiệm x = {-c/b}\")\n",
    "else:\n",
    "    delta=b*b -4*a*c\n",
    "    if delta <0 :\n",
    "        print(\"Phương trình vô nghiệm\")\n",
    "    elif delta > 0:\n",
    "        print (f\"\"\"Phương trình có 2 nghiệm :\n",
    "                X1= {((-b)+math.sqrt(delta))/(2*a)}\n",
    "                X2= {((-b)-math.sqrt(delta))/(2*a)}\n",
    "                \"\"\")\n",
    "    else:\n",
    "        print(f\"Phương trình có nghiệm kép X={-b/(2*a)}\")"
   ]
  },
  {
   "cell_type": "markdown",
   "id": "e2b41d4a",
   "metadata": {},
   "source": [
    "## Lab 2 - Bài 5: bài tập làm thêm"
   ]
  },
  {
   "cell_type": "code",
   "execution_count": 5,
   "id": "0e0172f7",
   "metadata": {},
   "outputs": [],
   "source": [
    "# code lab 2  bài làm thêm ở đây "
   ]
  }
 ],
 "metadata": {
  "kernelspec": {
   "display_name": "Python 3",
   "language": "python",
   "name": "python3"
  },
  "language_info": {
   "codemirror_mode": {
    "name": "ipython",
    "version": 3
   },
   "file_extension": ".py",
   "mimetype": "text/x-python",
   "name": "python",
   "nbconvert_exporter": "python",
   "pygments_lexer": "ipython3",
   "version": "3.13.7"
  }
 },
 "nbformat": 4,
 "nbformat_minor": 5
}
