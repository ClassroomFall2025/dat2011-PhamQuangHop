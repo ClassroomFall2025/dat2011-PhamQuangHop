{
 "cells": [
  {
   "cell_type": "markdown",
   "id": "fdeff819",
   "metadata": {},
   "source": [
    "# Sinh Viên thực hiện Lab 5 ở Đây"
   ]
  },
  {
   "cell_type": "markdown",
   "id": "acc5d7dc",
   "metadata": {},
   "source": [
    "## Lab 5 - Bài 1"
   ]
  },
  {
   "cell_type": "code",
   "execution_count": 41,
   "id": "001e0507",
   "metadata": {},
   "outputs": [
    {
     "name": "stdout",
     "output_type": "stream",
     "text": [
      "\n",
      "Tên sản phẩm : car\n",
      "Gía sản phẩm : 1,000,000,000\n",
      "Giảm giá : 50,000,000\n",
      "Thuế nhập khẩu: 100,000,000\n"
     ]
    }
   ],
   "source": [
    "# Code lab 5 bài 1 ở đây\n",
    "class SanPham ():\n",
    "    ten=\"\"\n",
    "    gia=0\n",
    "    giam_gia=0\n",
    "    \n",
    "    def them_san_pham(self, _ten, _gia, _giam_gia)   :\n",
    "        self.ten=_ten\n",
    "        self.gia=_gia\n",
    "        self.giam_gia =_giam_gia\n",
    "    def nhap_thong_tin(self):\n",
    "        self.ten=input(\"Nhập tên sản phẩm: \")\n",
    "        self.gia=int(input(\"Nhập giá sản phẩm: \"))\n",
    "        self.giam_gia=int(input(\"Nhập giảm giá: \"))\n",
    "        return self\n",
    "        \n",
    "    def tinh_thue_nhap_khau(self):\n",
    "        thue_nhap_khau=self.gia *0.1\n",
    "        return int(thue_nhap_khau)\n",
    "    \n",
    "    \n",
    "    def xuat_thong_tin(self):\n",
    "        print(f\"\\nTên sản phẩm : {self.ten}\\nGía sản phẩm : {self.gia:,}\\nGiảm giá : {self.giam_gia:,}\\nThuế nhập khẩu: {self.tinh_thue_nhap_khau():,}\")\n",
    "        \n",
    "sp1=SanPham()\n",
    "sp1.them_san_pham(\"car\",1000000000,50000000)\n",
    "sp1.xuat_thong_tin()"
   ]
  },
  {
   "cell_type": "markdown",
   "id": "c0835310",
   "metadata": {},
   "source": [
    "## Lab 5 - Bài 2"
   ]
  },
  {
   "cell_type": "code",
   "execution_count": 42,
   "id": "fa9cb39f",
   "metadata": {},
   "outputs": [
    {
     "name": "stdout",
     "output_type": "stream",
     "text": [
      "Nhập sản phẩm 1  \n",
      "Nhập sản phẩm 2  \n",
      "\n",
      "Tên sản phẩm : hhhhhhh\n",
      "Gía sản phẩm : 44,444\n",
      "Giảm giá : 23\n",
      "Thuế nhập khẩu: 4,444\n",
      "\n",
      "Tên sản phẩm : hhhhhhh\n",
      "Gía sản phẩm : 44,444\n",
      "Giảm giá : 23\n",
      "Thuế nhập khẩu: 4,444\n"
     ]
    }
   ],
   "source": [
    "# Code lab 5  bài 2 ở đây\n",
    "lst_sp=[]\n",
    "for i in range(2):\n",
    "    print(f\"Nhập sản phẩm {i+1}  \")\n",
    "    sp=sp.nhap_thong_tin()\n",
    "    lst_sp.append(sp)\n",
    "for sp in lst_sp:\n",
    "    sp.xuat_thong_tin()\n",
    "    "
   ]
  },
  {
   "cell_type": "markdown",
   "id": "0f2483fe",
   "metadata": {},
   "source": [
    "## Lab 5 - Bài 3"
   ]
  },
  {
   "cell_type": "code",
   "execution_count": 43,
   "id": "7034990b",
   "metadata": {},
   "outputs": [
    {
     "name": "stdout",
     "output_type": "stream",
     "text": [
      "\n",
      "Tên sản phẩm : bus\n",
      "Gía sản phẩm : 1,000,000,000\n",
      "Giảm giá : 50,000,000\n",
      "Thuế nhập khẩu: 100,000,000\n",
      "================\n",
      "\n",
      "Tên sản phẩm : gasss\n",
      "Gía sản phẩm : 55,551,111\n",
      "Giảm giá : 3,333\n",
      "Thuế nhập khẩu: 5,555,111\n"
     ]
    }
   ],
   "source": [
    "# Code lab 5  bài 3 ở đây\n",
    "\n",
    "class SanPham ():\n",
    "    __ten=\"\"\n",
    "    __gia=0\n",
    "    __giam_gia=0\n",
    "    \n",
    "    def them_san_pham(self, _ten, _gia, _giam_gia)   :\n",
    "        self.__ten=_ten\n",
    "        self.__gia=_gia\n",
    "        self.__giam_gia=_giam_gia \n",
    "    \n",
    "    \n",
    "    def get_ten(self):\n",
    "        return self.__ten    \n",
    "    def get_gia(self):\n",
    "        return self.__gia    \n",
    "    def get_giam_gia(self):\n",
    "        return self.__giam_gia  \n",
    "    \n",
    "    def set_ten(self,_ten):\n",
    "        self.__ten=_ten\n",
    "    def set_gia(self,_gia):\n",
    "        self.__gia=_gia\n",
    "    def set_giam_gia(self,_giam_gia):\n",
    "        self.__giam_gia=_giam_gia\n",
    "        \n",
    "         \n",
    "    def nhap_thong_tin(self):\n",
    "        ten=input(\"Nhập tên sản phẩm: \")\n",
    "        gia=int(input(\"Nhập giá sản phẩm: \"))\n",
    "        giam_gia=int(input(\"Nhập giảm giá: \"))\n",
    "        self.set_ten(ten)\n",
    "        self.set_gia(gia)\n",
    "        self.set_giam_gia(giam_gia)\n",
    "        return self\n",
    "        \n",
    "    def tinh_thue_nhap_khau(self):\n",
    "        thue_nhap_khau=self.get_gia() *0.1\n",
    "        return int(thue_nhap_khau)\n",
    "    \n",
    "    \n",
    "    def xuat_thong_tin(self):\n",
    "        print(f\"\\nTên sản phẩm : {self.get_ten()}\\nGía sản phẩm : {self.get_gia():,}\\nGiảm giá : {self.get_giam_gia():,}\\nThuế nhập khẩu: {self.tinh_thue_nhap_khau():,}\")\n",
    "        \n",
    "sp3=SanPham()\n",
    "sp3.them_san_pham(\"bus\",1000000000,50000000)\n",
    "sp3.xuat_thong_tin()\n",
    "print(\"================\")\n",
    "sp2=SanPham()\n",
    "sp2.nhap_thong_tin()\n",
    "sp2.xuat_thong_tin()"
   ]
  },
  {
   "cell_type": "markdown",
   "id": "d36ea3d3",
   "metadata": {},
   "source": [
    "## Lab 5 - Bài 4"
   ]
  },
  {
   "cell_type": "code",
   "execution_count": 45,
   "id": "4c707ec1",
   "metadata": {},
   "outputs": [
    {
     "name": "stdout",
     "output_type": "stream",
     "text": [
      "\n",
      "Tên sản phẩm : car\n",
      "Gía sản phẩm : 1,000,000,000\n",
      "Giảm giá : 50,000,000\n",
      "Thuế nhập khẩu: 100,000,000\n",
      "\n",
      "Tên sản phẩm : aaabbbccc\n",
      "Gía sản phẩm : 10,000,000\n",
      "Giảm giá : 241,200\n",
      "Thuế nhập khẩu: 1,000,000\n"
     ]
    }
   ],
   "source": [
    "# code lab 5 bài 4 ở đây\n",
    "\n",
    "\n",
    "class SanPham ():\n",
    "    def __init__ (self, _ten, _gia, _giam_gia):\n",
    "        self.__ten = _ten\n",
    "        self.__gia = _gia\n",
    "        self.__giam_gia = _giam_gia\n",
    "    \n",
    "    \n",
    "    def get_ten(self):\n",
    "        return self.__ten    \n",
    "    def get_gia(self):\n",
    "        return self.__gia    \n",
    "    def get_giam_gia(self):\n",
    "        return self.__giam_gia  \n",
    "    \n",
    "    def set_ten(self,_ten):\n",
    "        self.__ten=_ten\n",
    "    def set_gia(self,_gia):\n",
    "        self.__gia=_gia\n",
    "    def set_giam_gia(self,_giam_gia):\n",
    "        self.__giam_gia=_giam_gia\n",
    "        \n",
    "         \n",
    "    def nhap_thong_tin(self):\n",
    "        ten=input(\"Nhập tên sản phẩm: \")\n",
    "        gia=int(input(\"Nhập giá sản phẩm: \"))\n",
    "        giam_gia=int(input(\"Nhập giảm giá: \"))\n",
    "        self.set_ten(ten)\n",
    "        self.set_gia(gia)\n",
    "        self.set_giam_gia(giam_gia)\n",
    "        return self\n",
    "        \n",
    "    def tinh_thue_nhap_khau(self):\n",
    "        thue_nhap_khau=self.get_gia() *0.1\n",
    "        return int(thue_nhap_khau)\n",
    "    \n",
    "    \n",
    "    def xuat_thong_tin(self):\n",
    "        print(f\"\\nTên sản phẩm : {self.get_ten()}\\nGía sản phẩm : {self.get_gia():,}\\nGiảm giá : {self.get_giam_gia():,}\\nThuế nhập khẩu: {self.tinh_thue_nhap_khau():,}\")\n",
    "        \n",
    "sp5=SanPham(\"car\",1000000000,50000000)\n",
    "sp5.xuat_thong_tin()\n",
    "sp6=SanPham(\"\",0,0)\n",
    "sp6.nhap_thong_tin()\n",
    "sp6.xuat_thong_tin()"
   ]
  },
  {
   "cell_type": "markdown",
   "id": "e2b41d4a",
   "metadata": {},
   "source": [
    "## Lab 5 - Bài 5: bài tập làm thêm"
   ]
  },
  {
   "cell_type": "code",
   "execution_count": null,
   "id": "0e0172f7",
   "metadata": {},
   "outputs": [],
   "source": [
    "# code lab 5  bài làm thêm ở đây "
   ]
  }
 ],
 "metadata": {
  "kernelspec": {
   "display_name": "Python 3",
   "language": "python",
   "name": "python3"
  },
  "language_info": {
   "codemirror_mode": {
    "name": "ipython",
    "version": 3
   },
   "file_extension": ".py",
   "mimetype": "text/x-python",
   "name": "python",
   "nbconvert_exporter": "python",
   "pygments_lexer": "ipython3",
   "version": "3.13.7"
  }
 },
 "nbformat": 4,
 "nbformat_minor": 5
}
