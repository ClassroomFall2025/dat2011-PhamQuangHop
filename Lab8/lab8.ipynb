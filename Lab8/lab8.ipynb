{
 "cells": [
  {
   "cell_type": "markdown",
   "id": "fdeff819",
   "metadata": {},
   "source": [
    "# Sinh Viên thực hiện Lab 8 ở Đây"
   ]
  },
  {
   "cell_type": "markdown",
   "id": "acc5d7dc",
   "metadata": {},
   "source": [
    "## Lab 8 - Bài 1"
   ]
  },
  {
   "cell_type": "code",
   "execution_count": 36,
   "id": "001e0507",
   "metadata": {},
   "outputs": [
    {
     "name": "stdout",
     "output_type": "stream",
     "text": [
      "Họ : PHẠM\n",
      "Tên : HỢP\n",
      "Không có tên đệm\n"
     ]
    }
   ],
   "source": [
    "# Code lab 8 bài 1 ở đây\n",
    "# import re\n",
    "# mau=\"^[P,p][S,s][0-9]{5}$\"\n",
    "# mssv=input(\"Nhập mssv: \")\n",
    "# kq=re.search(mau,mssv)\n",
    "# print(\"Đúng định dạng\" if kq else \"Không đúng định dạng\")\n",
    "\n",
    "ten_dem=\"\"\n",
    "ho_ten=input(\"Nhập họ và tên :\")\n",
    "list_ho_ten=ho_ten.strip().split(\" \")\n",
    "print(f\"Họ : {list_ho_ten[0].upper()}\")\n",
    "print(f\"Tên : {list_ho_ten[-1].upper()}\")\n",
    "if len(list_ho_ten) > 2 :\n",
    "    for tendem in list_ho_ten[1:len(list_ho_ten)-1]:\n",
    "        ten_dem=ten_dem+\" \"+tendem\n",
    "    \n",
    "print(f\"Tên đệm : {ten_dem.strip()}\" if len(list_ho_ten) > 2 else \"Không có tên đệm\")\n"
   ]
  },
  {
   "cell_type": "markdown",
   "id": "c0835310",
   "metadata": {},
   "source": [
    "## Lab 8 - Bài 2"
   ]
  },
  {
   "cell_type": "code",
   "execution_count": 44,
   "id": "fa9cb39f",
   "metadata": {},
   "outputs": [
    {
     "name": "stdout",
     "output_type": "stream",
     "text": [
      "Thông tin sinh viên:\n",
      "Họ và tên : Phạm Quang Hợp \n",
      "Email : adasda@gmail.com \n",
      "Số điện thoại : 0395-331-942 \n",
      "CMND : 123123123 \n"
     ]
    }
   ],
   "source": [
    "# Code lab 8  bài 2 ở đây\n",
    "# import re\n",
    "# \n",
    "# email=input(\"Nhập email: \")\n",
    "# print(email)\n",
    "# kq=re.search(mau,email)\n",
    "# print(\"Đúng định dạng\" if kq else \"Không đúng định dạng\")\n",
    "\n",
    "import re\n",
    "sinhvien = {\n",
    "    \"Họ và tên\" : \"\",\n",
    "    \"Email\" : \"\",\n",
    "    \"Số điện thoại\" : \"\",\n",
    "    \"CMND\" : \"\"  \n",
    "}\n",
    "\n",
    "sinhvien[\"Họ và tên\"]=input(\"Nhập họ và tên sinh viên:\").title()\n",
    "\n",
    "sDTMau=\"^0[0-9]{3}-[0-9]{3}-[0-9]{3}$\"\n",
    "while True:\n",
    "    sinhvien[\"Số điện thoại\"]=input(\"Nhập số điện thoại (định dạng 0XXX-XXX-XXX) : \")\n",
    "    if re.search(sDTMau,sinhvien[\"Số điện thoại\"]):\n",
    "        break\n",
    "    else:\n",
    "        print(\"SDT chưa đúng định dạng, vui lòng nhập lại\")\n",
    "\n",
    "emailMau=r\"[a-zA-Z0-9_\\.]+@[a-zA-Z0-9]+\\.[a-zA-Z0-9]{2,3}$\"\n",
    "while True:\n",
    "    sinhvien[\"Email\"]=input(\"Nhập email (Định dạng : ___@___.__) : \")\n",
    "    if re.search(emailMau,sinhvien[\"Email\"]):\n",
    "        break\n",
    "    else:\n",
    "        print(\"Email chưa đúng định dạng, vui lòng nhập lại\")\n",
    "        \n",
    "CMNDMau=r\"[0-9]{9}$\"\n",
    "while True:\n",
    "    sinhvien[\"CMND\"]=input(\"Nhập CMND (Định dạng : 9 số) : \")\n",
    "    if re.search(CMNDMau,sinhvien[\"CMND\"]):\n",
    "        break\n",
    "    else:\n",
    "        print(\"CMND chưa đúng định dạng, vui lòng nhập lại\")\n",
    "\n",
    "print(\"Thông tin sinh viên:\")\n",
    "for key,value in sinhvien.items():\n",
    "    print(f\"{key} : {value} \")\n",
    "\n",
    "\n",
    "\n",
    "\n",
    "\n"
   ]
  },
  {
   "cell_type": "markdown",
   "id": "0f2483fe",
   "metadata": {},
   "source": [
    "## Lab 8 - Bài 3"
   ]
  },
  {
   "cell_type": "code",
   "execution_count": 1,
   "id": "7034990b",
   "metadata": {},
   "outputs": [],
   "source": [
    "# Code lab 8  bài 3 ở đây\n",
    "import random\n",
    "with open (\"danh_sach_so.txt\",\"w\") as file:\n",
    "    for i in range (1000000):\n",
    "        n=random.randint(0,100)\n",
    "        file.write(f\"{n} \")\n",
    "    \n"
   ]
  },
  {
   "cell_type": "markdown",
   "id": "d36ea3d3",
   "metadata": {},
   "source": [
    "## Lab 8 - Bài 4"
   ]
  },
  {
   "cell_type": "code",
   "execution_count": 23,
   "id": "4c707ec1",
   "metadata": {},
   "outputs": [
    {
     "name": "stdout",
     "output_type": "stream",
     "text": [
      "Trung bình : 49.980429 \n",
      "Trung vị : 50.0\n",
      "Độ lệch chuẩn : 29.155352956370894\n"
     ]
    }
   ],
   "source": [
    "# code lab 8 bài 4 ở đây\n",
    "import statistics as stat\n",
    "list_num=[]\n",
    "with open (\"danh_sach_so.txt\",\"r\") as f:\n",
    "    nums = f.read().strip().split()\n",
    "    for num in nums:\n",
    "        list_num.append(int(num))\n",
    "\n",
    "trung_binh = stat.mean(list_num)\n",
    "trung_vi = stat.median(list_num)\n",
    "do_lech_chuan=stat.stdev(list_num)\n",
    "print(f\"Trung bình : {trung_binh} \\nTrung vị : {trung_vi}\\nĐộ lệch chuẩn : {do_lech_chuan}\")\n",
    "\n",
    "\n",
    "\n",
    "\n",
    "    "
   ]
  },
  {
   "cell_type": "markdown",
   "id": "e2b41d4a",
   "metadata": {},
   "source": [
    "## Lab 8 - Bài 5: bài tập làm thêm"
   ]
  },
  {
   "cell_type": "code",
   "execution_count": null,
   "id": "0e0172f7",
   "metadata": {},
   "outputs": [],
   "source": [
    "# code lab 8  bài làm thêm ở đây "
   ]
  }
 ],
 "metadata": {
  "kernelspec": {
   "display_name": "Python 3",
   "language": "python",
   "name": "python3"
  },
  "language_info": {
   "codemirror_mode": {
    "name": "ipython",
    "version": 3
   },
   "file_extension": ".py",
   "mimetype": "text/x-python",
   "name": "python",
   "nbconvert_exporter": "python",
   "pygments_lexer": "ipython3",
   "version": "3.13.7"
  }
 },
 "nbformat": 4,
 "nbformat_minor": 5
}
