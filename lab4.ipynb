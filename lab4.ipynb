{
 "cells": [
  {
   "cell_type": "markdown",
   "id": "fdeff819",
   "metadata": {},
   "source": [
    "# Sinh Viên thực hiện Lab 4 ở Đây"
   ]
  },
  {
   "cell_type": "code",
   "execution_count": 1,
   "id": "a73bd4d1",
   "metadata": {},
   "outputs": [],
   "source": [
    "from lab4 import *"
   ]
  },
  {
   "cell_type": "markdown",
   "id": "acc5d7dc",
   "metadata": {},
   "source": [
    "## Lab 1 - Bài 1"
   ]
  },
  {
   "cell_type": "code",
   "execution_count": 14,
   "id": "001e0507",
   "metadata": {},
   "outputs": [
    {
     "name": "stdout",
     "output_type": "stream",
     "text": [
      "Tiền nước phải trả là: 1,257,667,000 VND\n"
     ]
    }
   ],
   "source": [
    "# Code lab 4 bài 1 ở đây\n",
    "\n",
    "tien_nuoc=tinh_tien_nuoc()\n",
    "print(f\"Tiền nước phải trả là: {tien_nuoc:,}\", \"VND\")"
   ]
  },
  {
   "cell_type": "markdown",
   "id": "c0835310",
   "metadata": {},
   "source": [
    "## Lab 4 - Bài 2"
   ]
  },
  {
   "cell_type": "code",
   "execution_count": 4,
   "id": "fa9cb39f",
   "metadata": {},
   "outputs": [
    {
     "name": "stdout",
     "output_type": "stream",
     "text": [
      "Chương trình tính nguyên liệu làm bánh\n",
      "Khối lượng đường: 0.57 kg\n",
      "Khối lượng đậu: 0.45 kg\n"
     ]
    }
   ],
   "source": [
    "# Code lab 4  bài 2 ở đây\n",
    "nguyen_lieu()"
   ]
  },
  {
   "cell_type": "markdown",
   "id": "0f2483fe",
   "metadata": {},
   "source": [
    "## Lab 4 - Bài 3"
   ]
  },
  {
   "cell_type": "code",
   "execution_count": 5,
   "id": "7034990b",
   "metadata": {},
   "outputs": [
    {
     "name": "stdout",
     "output_type": "stream",
     "text": [
      "Danh sách các số nguyên vừa nhập là:  [2, 3, 5, 2, 7]\n",
      "Danh sách các số chẵn là: [2, 2]\n"
     ]
    }
   ],
   "source": [
    "# Code lab 4  bài 3 ở đây\n",
    "new_list=so_chan()\n",
    "print(\"Danh sách các số chẵn là:\",new_list)"
   ]
  },
  {
   "cell_type": "markdown",
   "id": "d36ea3d3",
   "metadata": {},
   "source": [
    "## Lab 4 - Bài 4"
   ]
  },
  {
   "cell_type": "code",
   "execution_count": 4,
   "id": "4c707ec1",
   "metadata": {},
   "outputs": [
    {
     "name": "stdout",
     "output_type": "stream",
     "text": [
      "~~~~~~~~~~~~~~~Menu~~~~~~~~~~~~~~~\n",
      "|1. Tính tiền nước sinh hoạt     |\n",
      "|2. Tính nguyên liệu làm bánh    |\n",
      "|3. Tìm số chẵn trong danh sách  |\n",
      "|4. Kết thúc chương trình        |\n",
      "~~~~~~~~~~~~~~~~~~~~~~~~~~~~~~~~~~\n",
      "Số tiền nước phải trả là: 2,539,000 VND\n",
      "~~~~~~~~~~~~~~~Menu~~~~~~~~~~~~~~~\n",
      "|1. Tính tiền nước sinh hoạt     |\n",
      "|2. Tính nguyên liệu làm bánh    |\n",
      "|3. Tìm số chẵn trong danh sách  |\n",
      "|4. Kết thúc chương trình        |\n",
      "~~~~~~~~~~~~~~~~~~~~~~~~~~~~~~~~~~\n",
      "Danh sách các số nguyên vừa nhập là:  [5, 2, 5, 7, 8]\n",
      "Danh sách các số chẵn là:  [2, 8]\n",
      "~~~~~~~~~~~~~~~Menu~~~~~~~~~~~~~~~\n",
      "|1. Tính tiền nước sinh hoạt     |\n",
      "|2. Tính nguyên liệu làm bánh    |\n",
      "|3. Tìm số chẵn trong danh sách  |\n",
      "|4. Kết thúc chương trình        |\n",
      "~~~~~~~~~~~~~~~~~~~~~~~~~~~~~~~~~~\n",
      "Kết thúc chương trình.\n"
     ]
    }
   ],
   "source": [
    "# code lab 4 bài 4 ở đây\n",
    "menu()"
   ]
  },
  {
   "cell_type": "markdown",
   "id": "e2b41d4a",
   "metadata": {},
   "source": [
    "## Lab 4 - Bài 5: bài tập làm thêm"
   ]
  },
  {
   "cell_type": "code",
   "execution_count": 3,
   "id": "0e0172f7",
   "metadata": {},
   "outputs": [
    {
     "name": "stdout",
     "output_type": "stream",
     "text": [
      "~~~~~~~~~~~~~~~Menu Máy Tính Bỏ Túi~~~~~~~~~~~~~~~\n",
      "|1. Phép tính cơ bản                             |\n",
      "|2. Lũy thừa                                     |\n",
      "|3. Căn bậc hai                                  |\n",
      "|4. Hàm lượng giác (sin, cos, tan)               |\n",
      "|5. Logarit (log10, ln, log_a)                   |\n",
      "|6. Phương trình bậc hai                         |\n",
      "|7. Phương trình bậc nhất                        |\n",
      "|8. Xem lịch sử các phép tính                    |\n",
      "|9. Hiển thị thời gian hiện tại                  |\n",
      "|10. Kết thúc chương trình                       |\n",
      "~~~~~~~~~~~~~~~~~~~~~~~~~~~~~~~~~~~~~~~~~~~~~~~~~~\n",
      "Chọn phép tính cơ bản:\n",
      "1. Cộng (+)\n",
      "2. Trừ (-)\n",
      "3. Nhân (*)\n",
      "4. Chia (/)\n",
      "5. Thoát\n",
      "Kết quả: 10.0 - 25.0 = -15.0\n",
      "~~~~~~~~~~~~~~~Menu Máy Tính Bỏ Túi~~~~~~~~~~~~~~~\n",
      "|1. Phép tính cơ bản                             |\n",
      "|2. Lũy thừa                                     |\n",
      "|3. Căn bậc hai                                  |\n",
      "|4. Hàm lượng giác (sin, cos, tan)               |\n",
      "|5. Logarit (log10, ln, log_a)                   |\n",
      "|6. Phương trình bậc hai                         |\n",
      "|7. Phương trình bậc nhất                        |\n",
      "|8. Xem lịch sử các phép tính                    |\n",
      "|9. Hiển thị thời gian hiện tại                  |\n",
      "|10. Kết thúc chương trình                       |\n",
      "~~~~~~~~~~~~~~~~~~~~~~~~~~~~~~~~~~~~~~~~~~~~~~~~~~\n",
      "Giải phương trình bậc hai ax^2 + bx + c = 0\n",
      "Phương trình có hai nghiệm phân biệt: x1 = 0.581211484278702, x2 = -0.81930672237394\n",
      "~~~~~~~~~~~~~~~Menu Máy Tính Bỏ Túi~~~~~~~~~~~~~~~\n",
      "|1. Phép tính cơ bản                             |\n",
      "|2. Lũy thừa                                     |\n",
      "|3. Căn bậc hai                                  |\n",
      "|4. Hàm lượng giác (sin, cos, tan)               |\n",
      "|5. Logarit (log10, ln, log_a)                   |\n",
      "|6. Phương trình bậc hai                         |\n",
      "|7. Phương trình bậc nhất                        |\n",
      "|8. Xem lịch sử các phép tính                    |\n",
      "|9. Hiển thị thời gian hiện tại                  |\n",
      "|10. Kết thúc chương trình                       |\n",
      "~~~~~~~~~~~~~~~~~~~~~~~~~~~~~~~~~~~~~~~~~~~~~~~~~~\n",
      "Lịch sử các phép tính:\n",
      "10.0 - 25.0 = -15.0\n",
      "21.0x^2 + 5.0x + -10.0 = x1 = 0.581211484278702, x2 = -0.81930672237394\n",
      "~~~~~~~~~~~~~~~Menu Máy Tính Bỏ Túi~~~~~~~~~~~~~~~\n",
      "|1. Phép tính cơ bản                             |\n",
      "|2. Lũy thừa                                     |\n",
      "|3. Căn bậc hai                                  |\n",
      "|4. Hàm lượng giác (sin, cos, tan)               |\n",
      "|5. Logarit (log10, ln, log_a)                   |\n",
      "|6. Phương trình bậc hai                         |\n",
      "|7. Phương trình bậc nhất                        |\n",
      "|8. Xem lịch sử các phép tính                    |\n",
      "|9. Hiển thị thời gian hiện tại                  |\n",
      "|10. Kết thúc chương trình                       |\n",
      "~~~~~~~~~~~~~~~~~~~~~~~~~~~~~~~~~~~~~~~~~~~~~~~~~~\n",
      "Kết thúc chương trình.\n"
     ]
    }
   ],
   "source": [
    "# code lab 4  bài làm thêm ở đây \n",
    "menu_may_tinh()"
   ]
  }
 ],
 "metadata": {
  "kernelspec": {
   "display_name": "Python 3",
   "language": "python",
   "name": "python3"
  },
  "language_info": {
   "codemirror_mode": {
    "name": "ipython",
    "version": 3
   },
   "file_extension": ".py",
   "mimetype": "text/x-python",
   "name": "python",
   "nbconvert_exporter": "python",
   "pygments_lexer": "ipython3",
   "version": "3.13.7"
  }
 },
 "nbformat": 4,
 "nbformat_minor": 5
}
