{
 "cells": [
  {
   "cell_type": "markdown",
   "id": "fdeff819",
   "metadata": {},
   "source": [
    "# Sinh Viên thực hiện Lab 7 ở Đây"
   ]
  },
  {
   "cell_type": "markdown",
   "id": "acc5d7dc",
   "metadata": {},
   "source": [
    "## Lab 7 - Bài 1"
   ]
  },
  {
   "cell_type": "code",
   "execution_count": 1,
   "id": "001e0507",
   "metadata": {},
   "outputs": [
    {
     "name": "stdout",
     "output_type": "stream",
     "text": [
      "Tự nguyện\n",
      "Trương Quốc Khánh\n",
      "Nếu là chim, tôi sẽ là loài bồ câu trắng\n",
      "Nếu là hoa, tôi sẽ là một đóa hướng dương\n",
      "Nếu là mây, tôi sẽ là một vầng mây ấm\n",
      "Là người, tôi sẽ chết cho quê hương.\n",
      "\n",
      "Là chim, tôi sẽ cất cao đôi cánh mềm\n",
      "Từ nam ra ngoài bắc báo tin nối liền\n",
      "Là hoa, tôi nở tình yêu ban sớm\n",
      "Cùng muôn trái tim ngất ngây hoà bình.\n",
      "\n",
      "Là mây, theo làn gió tung bay khắp trời\n",
      "Nghìn xưa oai hùng đó tôi xin tiếp lời\n",
      "Là người, xin một lần khi nằm xuống\n",
      "Nhìn anh em đứng lên phất cao ngọn cờ.\n",
      "\n",
      "Tên bài thơ:  Tự nguyện\n",
      "Tên tác giả: Trương Quốc Khánh\n",
      "\n"
     ]
    }
   ],
   "source": [
    "# Code lab 7 bài 1 ở đây\n",
    "import os\n",
    "file=\"DAT2011 - Lab 7 - Resource.txt\"\n",
    "if os.path.exists(file):\n",
    "    f=open(file , \"r\", encoding=\"utf-8\")\n",
    "    print(f.read())\n",
    "    f.seek(0)\n",
    "\n",
    "    print(\"\\nTên bài thơ: \",f.read(9))\n",
    "\n",
    "    f.seek(0)\n",
    "    lines=f.readlines()\n",
    "    print(\"Tên tác giả:\",lines[1])\n",
    "    f.close()\n",
    "else:\n",
    "    print(\"File không tồn tại\")"
   ]
  },
  {
   "cell_type": "markdown",
   "id": "c0835310",
   "metadata": {},
   "source": [
    "## Lab 7 - Bài 2"
   ]
  },
  {
   "cell_type": "code",
   "execution_count": 2,
   "id": "fa9cb39f",
   "metadata": {},
   "outputs": [],
   "source": [
    "# Code lab 7  bài 2 ở đây\n",
    "noi_dung='''\"...\n",
    "Nếu một mai tôi có bay lên trời \n",
    "Thì người ơi tôi đã sống rất thảnh thơi\n",
    "Nếu một mai tôi có đi qua đời \n",
    "Thì người ơi tôi đã sống rất tuyệt vời \n",
    "...\"'''\n",
    "f=open(\"Lab7-Exercise2.txt\",\"w\",encoding=\"utf-8\")\n",
    "f.write(noi_dung)\n",
    "f.close()"
   ]
  },
  {
   "cell_type": "markdown",
   "id": "0f2483fe",
   "metadata": {},
   "source": [
    "## Lab 7 - Bài 3"
   ]
  },
  {
   "cell_type": "code",
   "execution_count": 3,
   "id": "7034990b",
   "metadata": {},
   "outputs": [
    {
     "name": "stdout",
     "output_type": "stream",
     "text": [
      "\n",
      "Nhập thông tin bài hát thứ 1\n",
      "\n",
      "Nhập thông tin bài hát thứ 2\n",
      "\n",
      "Nhập thông tin bài hát thứ 3\n",
      "\n",
      "Nhập thông tin bài hát thứ 4\n",
      "\n",
      "Nhập thông tin bài hát thứ 5\n"
     ]
    }
   ],
   "source": [
    "# Code lab 7  bài 3 ở đây\n",
    "file_name=input(\"Nhập tên file lưu thông tin bài hát .csv: \")\n",
    "f=open(file_name,\"w\",encoding=\"utf-8\")\n",
    "f.write(\"Tiêu đề,Tác giả,Năm sáng tác\\n\")\n",
    "for i in range(5):\n",
    "    print(f\"\\nNhập thông tin bài hát thứ {i+1}\")\n",
    "    tieu_de=input(\"Nhập tiêu đề bài hát: \")\n",
    "    tac_gia=input(\"Nhập tên tác giả: \")\n",
    "    while True:\n",
    "        try:\n",
    "            nam_sang_tac=int(input(\"Nhập năm sáng tác: \"))\n",
    "            if nam_sang_tac > 1900 and nam_sang_tac <= 2025:\n",
    "                break\n",
    "            else:\n",
    "                print(\"Năm sáng tác phải trong khoảng 1900 đến 2025. Vui lòng nhập lại.\")\n",
    "        except ValueError:\n",
    "            print(\"Năm sáng tác phải là số nguyên trong khoảng 1900 đến 2025. Vui lòng nhập lại.\")\n",
    "    f.write(f\"{tieu_de},{tac_gia},{nam_sang_tac}\\n\")\n",
    "f.close()"
   ]
  },
  {
   "cell_type": "markdown",
   "id": "d36ea3d3",
   "metadata": {},
   "source": [
    "## Lab 7 - Bài 4"
   ]
  },
  {
   "cell_type": "code",
   "execution_count": null,
   "id": "4c707ec1",
   "metadata": {},
   "outputs": [],
   "source": [
    "# code lab 7 bài 4 ở đây\n",
    "import os\n",
    "file=\"DAT2011 - Lab 7 - Resource.txt\"\n",
    "if os.path.exists(file):\n",
    "    f=open(file , \"r\", encoding=\"utf-8\")\n",
    "    lines=f.readlines()\n",
    "    new_file=open(\"BaiTho.xml\",\"w\",encoding=\"utf-8\")\n",
    "    new_file.write(\"<songs>\\n\")\n",
    "    new_file.write(\"    <song>\\n\")\n",
    "    new_file.write(f\"       <name> {lines[0].strip()} </name>\\n\")\n",
    "    new_file.write(f\"       <author> {lines[1].strip()} </author>\\n\")\n",
    "    for i in range(2, len(lines), 5):\n",
    "        new_file.write(\"        <section> \")\n",
    "        for j in range(4):\n",
    "            if i+j < len(lines):\n",
    "                line_number=i+j\n",
    "            new_file.write(f\"{lines[line_number].strip()} \")\n",
    "        new_file.write(\"       </section>\\n\")\n",
    "    new_file.write(\"    </song>\\n\")\n",
    "    new_file.write(\"</songs>\")\n",
    "    new_file.close() \n",
    "    f.close()\n",
    "else:\n",
    "    print(\"File không tồn tại\")"
   ]
  },
  {
   "cell_type": "markdown",
   "id": "e2b41d4a",
   "metadata": {},
   "source": [
    "## Lab 7 - Bài 5: bài tập làm thêm"
   ]
  },
  {
   "cell_type": "code",
   "execution_count": null,
   "id": "0e0172f7",
   "metadata": {},
   "outputs": [],
   "source": [
    "# code lab 7  bài làm thêm ở đây "
   ]
  }
 ],
 "metadata": {
  "kernelspec": {
   "display_name": "Python 3",
   "language": "python",
   "name": "python3"
  },
  "language_info": {
   "codemirror_mode": {
    "name": "ipython",
    "version": 3
   },
   "file_extension": ".py",
   "mimetype": "text/x-python",
   "name": "python",
   "nbconvert_exporter": "python",
   "pygments_lexer": "ipython3",
   "version": "3.13.7"
  }
 },
 "nbformat": 4,
 "nbformat_minor": 5
}
